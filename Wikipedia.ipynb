{
  "cells": [
    {
      "cell_type": "markdown",
      "metadata": {
        "id": "Tirw9HnrTuau"
      },
      "source": [
        "# 1.0 Estudo de caso: construindo uma rede de páginas da Wikipédia\n",
        "\n",
        "> Adicionar aspas"
      ]
    },
    {
      "cell_type": "markdown",
      "metadata": {
        "id": "ryNuGuF5aK6t"
      },
      "source": [
        "## 1.1 Introdução"
      ]
    },
    {
      "cell_type": "markdown",
      "metadata": {
        "id": "K4U4cYABYxsK"
      },
      "source": [
        "Até agora, aprendemos duas maneiras de construir uma rede complexa:\n",
        "- a partir de um arquivo CSV\n",
        "- manualmente\n",
        "\n",
        "O que é difícil para redes pequenas pode ser impossível para redes de médio a grande porte; pode ser impossível até mesmo para redes pequenas se você precisar repetir a análise muitas\n",
        "vezes. O estudo de caso nesta lição mostra **como construir uma grande\n",
        "rede de forma fácil**:\n",
        "- coletando automaticamente dados de nós e bordas da Internet.\n",
        "\n",
        "O outro objetivo deste estudo (além de dominar novas técnicas de construção de rede) é bastante pragmático.\n",
        "- Você não gostaria de saber onde a **análise de rede complexa** se encaixa no contexto de outros assuntos e disciplinas?\n",
        "\n",
        "Uma resposta para esta pergunta está próxima: [na Wikipedia](https://en.wikipedia.org/wiki/Complex_network).\n",
        "\n",
        "Vamos começar com a página da Wikipedia sobre redes complexas — a página inicial.\n",
        "(Infelizmente, não há uma página sobre análise de rede complexa em si.) O corpo da página\n",
        "tem links externos e links para outras páginas da Wikipédia. Essas outras páginas\n",
        "presumivelmente estão de alguma forma relacionadas a redes complexas, ou então por que\n",
        "os editores da Wikipédia as forneceriam?\n",
        "Para construir uma rede a partir da página semente e outras páginas relevantes, **vamos tratar\n",
        "as páginas (e os respectivos assuntos da Wikipédia) como os nós da rede e\n",
        "os links entre as páginas como as arestas da rede**. Você usará a amostragem\n",
        "de bola de neve (uma busca em largura ou [algoritmo BFS](https://en.wikipedia.org/wiki/Breadth-first_search)) para descobrir todos os nós e arestas de interesse.\n",
        "\n",
        "<img width=\"200\" src=\"https://drive.google.com/uc?export=view&id=1iC-cieOaZKy80adviVISLmM-2Zm7NL-i\">\n",
        "\n",
        "Como resultado, você terá uma rede de todas as páginas relacionadas a redes complexas\n",
        "e, com sorte, você tirará algumas conclusões sobre isso."
      ]
    },
    {
      "cell_type": "markdown",
      "metadata": {
        "id": "JnNVv00Aalcx"
      },
      "source": [
        "## 1.2 Obtenha os dados, construa a rede"
      ]
    },
    {
      "cell_type": "markdown",
      "metadata": {
        "id": "5DofZOgJa9Nf"
      },
      "source": [
        "A primeira metade do script do projeto consiste em:\n",
        "\n",
        "1. o prólogo de inicialização\n",
        "2. um loop pesado que recupera as páginas da Wikipédia e simultaneamente constrói a rede de nós e arestas.\n",
        "\n",
        "Vamos primeiro importar todos os módulos necessários. Precisaremos de:\n",
        "\n",
        "- o módulo **wikipedia** para buscar e explorar páginas da Wikipédia\n",
        "- o operador **itemgetter** para classificar uma lista de tuplas\n",
        "- e, naturalmente, o próprio **networkx**.\n",
        "\n",
        "Para direcionar o **processo de bola de neve**, defina a constante **SEED, o nome da\n",
        "página inicial**.\n",
        "\n",
        "> Como uma observação lateral, ao alterar o nome da página inicial, você pode\n",
        "aplicar esta análise a qualquer outro assunto na Wikipédia.\n",
        "\n",
        "Por último, mas não menos importante, quando você começar a bola de neve, você eventualmente (e\n",
        "muito em breve) esbarrará nas páginas que descrevem os números ISBN e ISSN, o\n",
        "arXiv, PubMed e similares. Quase todas as outras páginas da Wikipédia se referem a uma ou\n",
        "mais dessas páginas. Essa hiperconectividade transforma qualquer rede em\n",
        "uma coleção de estrelas gigantes quase perfeitas, fazendo com que todas as redes baseadas na Wikipédia\n",
        "pareçam semelhantes. **Para evitar a síndrome do estrelato**, trate as páginas “estrelas”\n",
        "conhecidas como stop words na recuperação de informações — em outras palavras, ignore quaisquer links\n",
        "para elas.\n",
        "\n",
        "Construir a **lista negra de stop words**, STOPS, é uma questão de tentativa\n",
        "e erro. Colocamos treze assuntos nela; você pode querer adicionar mais quando\n",
        "encontrar outras “estrelas”. Também excluímos páginas cujos nomes começam com\n",
        "**\"Lista de\"**, porque são simplesmente listas de outros assuntos."
      ]
    },
    {
      "cell_type": "code",
      "execution_count": 20,
      "metadata": {
        "colab": {
          "base_uri": "https://localhost:8080/"
        },
        "id": "sQcOSXayXX1W",
        "outputId": "e62cde2f-06a2-4372-f810-bb2ec0dafb4a"
      },
      "outputs": [
        {
          "output_type": "stream",
          "name": "stdout",
          "text": [
            "Requirement already satisfied: wikipedia in /usr/local/lib/python3.10/dist-packages (1.4.0)\n",
            "Requirement already satisfied: beautifulsoup4 in /usr/local/lib/python3.10/dist-packages (from wikipedia) (4.12.3)\n",
            "Requirement already satisfied: requests<3.0.0,>=2.0.0 in /usr/local/lib/python3.10/dist-packages (from wikipedia) (2.32.3)\n",
            "Requirement already satisfied: charset-normalizer<4,>=2 in /usr/local/lib/python3.10/dist-packages (from requests<3.0.0,>=2.0.0->wikipedia) (3.3.2)\n",
            "Requirement already satisfied: idna<4,>=2.5 in /usr/local/lib/python3.10/dist-packages (from requests<3.0.0,>=2.0.0->wikipedia) (3.7)\n",
            "Requirement already satisfied: urllib3<3,>=1.21.1 in /usr/local/lib/python3.10/dist-packages (from requests<3.0.0,>=2.0.0->wikipedia) (2.0.7)\n",
            "Requirement already satisfied: certifi>=2017.4.17 in /usr/local/lib/python3.10/dist-packages (from requests<3.0.0,>=2.0.0->wikipedia) (2024.7.4)\n",
            "Requirement already satisfied: soupsieve>1.2 in /usr/local/lib/python3.10/dist-packages (from beautifulsoup4->wikipedia) (2.6)\n"
          ]
        }
      ],
      "source": [
        "!pip install wikipedia"
      ]
    },
    {
      "cell_type": "code",
      "execution_count": 21,
      "metadata": {
        "id": "MINWDN4gTzAC"
      },
      "outputs": [],
      "source": [
        "from operator import itemgetter\n",
        "import networkx as nx\n",
        "import wikipedia\n",
        "import matplotlib.pyplot as plt"
      ]
    },
    {
      "cell_type": "code",
      "execution_count": 22,
      "metadata": {
        "colab": {
          "base_uri": "https://localhost:8080/",
          "height": 35
        },
        "id": "lVqdt1994G2J",
        "outputId": "09f07ecc-9da3-4bba-b700-98cbf6536fab"
      },
      "outputs": [
        {
          "output_type": "execute_result",
          "data": {
            "text/plain": [
              "'3.3'"
            ],
            "application/vnd.google.colaboratory.intrinsic+json": {
              "type": "string"
            }
          },
          "metadata": {},
          "execution_count": 22
        }
      ],
      "source": [
        "nx.__version__"
      ]
    },
    {
      "cell_type": "code",
      "execution_count": 38,
      "metadata": {
        "id": "YPTw8l5iT7z9"
      },
      "outputs": [],
      "source": [
        "#https://en.wikipedia.org/wiki/Complex_network\n",
        "SEED1 = \"São José do Campestre\".title()\n",
        "SEED2 = \"Medium (site)\".title()\n",
        "SEED3 = \"Santana do Seridó\".title()\n",
        "STOPS = (\n",
        "    \"Network Theory\",\n",
        "    \"Graph Theory\",\n",
        "    \"Scale-Free Network\",\n",
        "    \"Small-World Network\",\n",
        "    \"Erdős–Rényi Model\",\n",
        "    \"Barabási–Albert Model\",\n",
        "    \"Social Network\",\n",
        "    \"Biological Network\",\n",
        "    \"Ecological Network\",\n",
        "    \"Neural Network\",\n",
        "    \"Computer Network\",\n",
        "    \"Internet\",\n",
        "    \"World Wide Web\",\n",
        "    \"Power Grid\",\n",
        "    \"Transportation Network\",\n",
        "    \"Economic Network\",\n",
        "    \"Social Network Analysis\",\n",
        "    \"Complex System\",\n",
        "    \"Chaos Theory\"\n",
        ")\n"
      ]
    },
    {
      "cell_type": "markdown",
      "metadata": {
        "id": "ChlfDfm7YQNY"
      },
      "source": [
        "O próximo fragmento de código lida com a configuração do **processo de bola de neve**. Uma\n",
        "busca em largura, ou BFS (às vezes conhecida por programadores de computador\n",
        "como um algoritmo de bola de neve), deve lembrar quais **páginas já foram\n",
        "processadas** e quais foram **descobertas, mas ainda não processadas**.\n",
        "- as primeiras são armazenadas no conjunto **done_set**;\n",
        "- as últimas, na lista **todo_lst** e **todo_set**.\n",
        "\n",
        "Você precisa de duas estruturas de dados para as páginas não processadas porque você quer\n",
        "saber se uma página já foi registrada (uma pesquisa não ordenada, *todo_set*) e\n",
        "qual página é a próxima a ser processada (uma pesquisa ordenada, *todo_lst*).\n",
        "\n",
        "Acumular uma rede extensa — e a Wikipedia com 6.578.766 artigos\n",
        "somente no segmento em inglês pode produzir uma rede enorme! — leva um\n",
        "tempo considerável.\n",
        "\n",
        "<img width=\"300\" src=\"https://drive.google.com/uc?export=view&id=1mzwKkNsLhTmOxWailBsFUOba_YqYpyes\">\n",
        "\n",
        "Suponha que você comece com um nó semente, e digamos que ele tenha $N\\approx 100$ vizinhos.\n",
        "Cada um deles tem $N$ vizinhos também, para o total de $\\approx N+N×N$ nós. A\n",
        "terceira rodada de descoberta adiciona $\\approx N×N×N$ mais nós. O tempo para raspar cada\n",
        "próxima camada de nós cresce exponencialmente. Para este exercício, vamos processar apenas\n",
        "o próprio nó semente e seus vizinhos imediatos (camadas 0 e 1). O processamento\n",
        "da camada 2 ainda é viável, mas a camada 3 requer $N×N×N×N\\approx 10^8$ downloads de páginas. Para monitorar a distância do nó atualmente processado até a semente, armazene a camada à qual o nó pertence e o nome do nó juntos como uma tupla na lista **todo_lst**."
      ]
    },
    {
      "cell_type": "code",
      "execution_count": 39,
      "metadata": {
        "id": "sy1gJQxwYdNi"
      },
      "outputs": [],
      "source": [
        "def start(SEED):\n",
        "  todo_lst = [(0, SEED)] # The SEED is in the layer 0\n",
        "  todo_set = set(SEED) # The SEED itself\n",
        "  done_set = set() # Nothing is done yet\n",
        "  return todo_lst, todo_set, done_set\n",
        "todo_lst1, todo_set1, done_set1 = start(SEED1)\n",
        "todo_lst2, todo_set2, done_set2 = start(SEED2)\n",
        "todo_lst3, todo_set3, done_set3 = start(SEED3)"
      ]
    },
    {
      "cell_type": "markdown",
      "metadata": {
        "id": "FlcRZ49jYjSr"
      },
      "source": [
        "**A saída do exercício é um gráfico NetworkX**. O próximo fragmento criará\n",
        "um gráfico direcionado vazio que mais tarde absorverá nós e arestas descobertos.\n",
        "\n",
        "> Escolhemos um **gráfico direcionado** porque as arestas que representam links HTML\n",
        "são naturalmente direcionadas: um link da página A para a página B não implica um link recíproco.\n",
        "\n",
        "O mesmo fragmento prepara o algoritmo extraindo o primeiro item “a fazer”\n",
        "(tanto sua camada quanto o nome da página) da lista homônima."
      ]
    },
    {
      "cell_type": "code",
      "execution_count": 40,
      "metadata": {
        "id": "z04Y-it9g5OR"
      },
      "outputs": [],
      "source": [
        "g1 = nx.DiGraph()\n",
        "layer1, page1 = todo_lst1[0]\n",
        "\n",
        "g2 = nx.DiGraph()\n",
        "layer2, page2 = todo_lst2[0]\n",
        "\n",
        "g3 = nx.DiGraph()\n",
        "layer3, page3 = todo_lst3[0]"
      ]
    },
    {
      "cell_type": "markdown",
      "metadata": {
        "id": "cCe-Cq_4hGPH"
      },
      "source": [
        "Pode levar uma fração de segundo para executar as cinco primeiras linhas do script.\n",
        "Pode levar o ano inteiro ou mais para terminar as próximas vinte linhas\n",
        "porque elas contêm o loop principal de coleta/construção do projeto."
      ]
    },
    {
      "cell_type": "code",
      "execution_count": 42,
      "metadata": {
        "colab": {
          "base_uri": "https://localhost:8080/"
        },
        "id": "ucGHcQ4-hP4V",
        "outputId": "d6029dcb-f5c3-4907-ae3f-b3f47623c4bf"
      },
      "outputs": [
        {
          "metadata": {
            "tags": null
          },
          "name": "stdout",
          "output_type": "stream",
          "text": [
            "0 São José Do Campestre\n",
            "1 Afonso Bezerra\n",
            "1 Alexandria, Rio Grande Do Norte\n",
            "1 Almino Afonso\n",
            "1 Alto Do Rodrigues\n",
            "1 Angicos\n",
            "1 Antônio Martins\n",
            "1 Apodi, Rio Grande Do Norte\n",
            "1 Areia Branca, Rio Grande Do Norte\n",
            "1 Arês, Rio Grande Do Norte\n",
            "1 Assu, Rio Grande Do Norte\n",
            "1 Baraúna, Rio Grande Do Norte\n",
            "1 Barcelona, Rio Grande Do Norte\n",
            "1 Baía Formosa\n",
            "1 Bento Fernandes\n",
            "1 Boa Saúde\n",
            "1 Bodó\n",
            "1 Bom Jesus, Rio Grande Do Norte\n",
            "1 Brazil\n",
            "1 Brejinho, Rio Grande Do Norte\n",
            "1 Caicó\n",
            "1 Caiçara Do Norte\n",
            "1 Caiçara Do Rio Do Vento\n",
            "1 Campo Grande, Rio Grande Do Norte\n",
            "1 Campo Redondo, Rio Grande Do Norte\n",
            "1 Canguaretama\n",
            "1 Caraúbas, Rio Grande Do Norte\n",
            "1 Carnaubais\n",
            "1 Carnaúba Dos Dantas\n",
            "1 Ceará-Mirim\n",
            "1 Cerro Corá, Rio Grande Do Norte\n",
            "1 Coronel Ezequiel\n",
            "1 Coronel João Pessoa\n"
          ]
        },
        {
          "metadata": {
            "tags": null
          },
          "name": "stderr",
          "output_type": "stream",
          "text": [
            "/usr/local/lib/python3.10/dist-packages/wikipedia/wikipedia.py:389: GuessedAtParserWarning: No parser was explicitly specified, so I'm using the best available HTML parser for this system (\"lxml\"). This usually isn't a problem, but if you run this code on another system, or in a different virtual environment, it may use a different parser and behave differently.\n",
            "\n",
            "The code that caused this warning is on line 389 of the file /usr/local/lib/python3.10/dist-packages/wikipedia/wikipedia.py. To get rid of this warning, pass the additional argument 'features=\"lxml\"' to the BeautifulSoup constructor.\n",
            "\n",
            "  lis = BeautifulSoup(html).find_all('li')\n"
          ]
        },
        {
          "output_type": "stream",
          "name": "stdout",
          "text": [
            "Could not load Coronel João Pessoa\n",
            "1 Cruzeta\n",
            "1 Currais Novos\n",
            "1 Doutor Severiano\n",
            "1 Encanto, Rio Grande Do Norte\n",
            "1 Equador, Rio Grande Do Norte\n",
            "1 Espírito Santo, Rio Grande Do Norte\n",
            "1 Extremoz\n",
            "1 Felipe Guerra\n",
            "1 Fernando Pedroza, Rio Grande Do Norte\n",
            "1 Florânia\n",
            "1 Francisco Dantas\n",
            "1 Frutuoso Gomes\n",
            "1 Galinhos\n",
            "1 Goianinha\n",
            "1 Governador Dix-Sept Rosado\n",
            "1 Grossos\n",
            "1 Guamaré\n",
            "1 Ielmo Marinho\n",
            "1 Ipanguaçu\n",
            "1 Ipueira\n",
            "1 Itajá, Rio Grande Do Norte\n",
            "1 Itaú, Rio Grande Do Norte\n",
            "1 Jandaíra, Rio Grande Do Norte\n",
            "1 Janduís\n",
            "1 Japi\n",
            "1 Jardim De Angicos\n",
            "1 Jardim De Piranhas\n",
            "1 Jardim Do Seridó\n",
            "1 Jaçanã, Rio Grande Do Norte\n",
            "1 José Da Penha\n",
            "1 João Câmara, Rio Grande Do Norte\n",
            "1 João Dias\n",
            "1 Jucurutu\n",
            "1 Jundiá, Rio Grande Do Norte\n",
            "1 Lagoa Nova\n",
            "1 Lagoa Salgada\n",
            "Could not load Lagoa Salgada\n",
            "1 Lagoa D'Anta\n",
            "1 Lagoa De Pedras\n",
            "1 Lagoa De Velhos\n",
            "1 Lajes, Rio Grande Do Norte\n",
            "1 Lajes Pintadas\n",
            "1 Lucrécia\n",
            "1 Luís Gomes\n",
            "1 Macau, Rio Grande Do Norte\n",
            "1 Macaíba\n",
            "1 Major Sales\n",
            "Could not load Major Sales\n",
            "1 Marcelino Vieira\n",
            "1 Martins, Rio Grande Do Norte\n",
            "1 Maxaranguape\n",
            "1 Messias Targino\n",
            "1 Montanhas\n",
            "1 Monte Alegre, Rio Grande Do Norte\n",
            "1 Monte Das Gameleiras\n",
            "1 Mossoró\n",
            "1 Municipalities Of Brazil\n",
            "1 Natal, Rio Grande Do Norte\n",
            "1 Northeast Region, Brazil\n",
            "1 Nova Cruz, Rio Grande Do Norte\n",
            "1 Nísia Floresta, Rio Grande Do Norte\n",
            "1 Olho-D'Água Do Borges\n",
            "1 Ouro Branco, Rio Grande Do Norte\n",
            "1 Pdf\n",
            "1 Paraná, Rio Grande Do Norte\n",
            "1 Parazinho\n",
            "1 Paraú\n",
            "1 Parelhas\n",
            "1 Parnamirim\n",
            "1 Passa E Fica\n",
            "1 Passagem, Rio Grande Do Norte\n",
            "1 Patu, Rio Grande Do Norte\n",
            "1 Pau Dos Ferros\n",
            "1 Pedra Grande, Rio Grande Do Norte\n",
            "1 Pedra Preta, Rio Grande Do Norte\n",
            "1 Pedro Avelino\n",
            "1 Pedro Velho\n",
            "1 Pendências\n",
            "1 Pilões, Rio Grande Do Norte\n",
            "1 Portalegre, Rio Grande Do Norte\n",
            "1 Porto Do Mangue\n",
            "1 Poço Branco\n",
            "1 Presidente Juscelino\n",
            "1 Pureza, Rio Grande Do Norte\n",
            "1 Rafael Fernandes, Rio Grande Do Norte\n",
            "1 Rafael Godeiro\n",
            "1 Regions Of Brazil\n",
            "1 Riacho Da Cruz\n",
            "1 Riacho De Santana, Rio Grande Do Norte\n",
            "1 Riachuelo, Rio Grande Do Norte\n",
            "1 Rio Grande Do Norte\n",
            "1 Rio Do Fogo\n",
            "1 Rodolfo Fernandes\n",
            "1 Ruy Barbosa, Rio Grande Do Norte\n",
            "1 Santa Cruz, Rio Grande Do Norte\n",
            "1 Santa Maria, Rio Grande Do Norte\n",
            "1 Santana Do Matos\n",
            "1 Santana Do Seridó\n",
            "1 Santo Antônio, Rio Grande Do Norte\n",
            "1 Senador Elói De Souza\n",
            "1 Senador Georgino Avelino\n",
            "1 Serra Negra Do Norte\n",
            "1 Serra De São Bento\n",
            "1 Serra Do Mel\n",
            "1 Serrinha, Rio Grande Do Norte\n",
            "1 Serrinha Dos Pintos\n",
            "1 Severiano Melo\n",
            "1 States Of Brazil\n",
            "1 São Bento Do Norte\n",
            "1 São Bento Do Trairi\n",
            "1 São Fernando\n",
            "1 São Francisco Do Oeste\n",
            "1 São Gonçalo Do Amarante, Rio Grande Do Norte\n",
            "1 São José De Mipibu\n",
            "1 São José Do Seridó\n",
            "1 São João Do Sabugi\n",
            "1 São Miguel, Rio Grande Do Norte\n",
            "1 São Miguel Do Gostoso\n",
            "1 São Paulo Do Potengi\n",
            "1 São Pedro, Rio Grande Do Norte\n",
            "1 São Rafael, Rio Grande Do Norte\n",
            "1 São Tomé, Rio Grande Do Norte\n",
            "1 São Vicente, Rio Grande Do Norte\n",
            "1 Sítio Novo, Rio Grande Do Norte\n",
            "1 Taboleiro Grande\n",
            "1 Taipu, Rio Grande Do Norte\n",
            "1 Tangará, Rio Grande Do Norte\n",
            "1 Tenente Ananias\n",
            "1 Tenente Laurentino Cruz\n",
            "1 Tibau\n",
            "1 Tibau Do Sul\n",
            "1 Timbaúba Dos Batistas\n",
            "1 Time In Brazil\n",
            "1 Time Zone\n",
            "Could not load Time Zone\n",
            "1 Touros\n",
            "1 Triunfo Potiguar\n",
            "1 Utc−3\n",
            "1 Umarizal\n",
            "1 Upanema\n",
            "1 Venha-Ver\n",
            "1 Vera Cruz, Rio Grande Do Norte\n",
            "1 Vila Flor, Rio Grande Do Norte\n",
            "1 Viçosa, Rio Grande Do Norte\n",
            "1 Várzea, Rio Grande Do Norte\n",
            "1 Água Nova\n",
            "0 Medium (Site)\n",
            "1 1Malaysia Development Berhad\n",
            "1 Al Jazeera Media Network\n",
            "1 Amazon Cloudfront\n",
            "1 Amazon Elastic Block Store\n",
            "1 Amazon Elastic Compute Cloud\n",
            "1 Amazon Relational Database Service\n",
            "1 Amazon Route 53\n",
            "1 Amazon S3\n",
            "1 Amazon Web Services\n",
            "Could not load Amazon Web Services\n",
            "1 Android (Operating System)\n",
            "1 Artificial Intelligence\n",
            "1 Backchannel (Blog)\n",
            "1 Banner Advertising\n",
            "Could not load Banner Advertising\n",
            "1 Ben Horowitz\n",
            "1 Bill Simmons\n",
            "Could not load Bill Simmons\n",
            "1 Biz Stone\n",
            "1 Blog\n",
            "1 Blog Publishing System\n",
            "1 Blogger (Service)\n",
            "1 Code-Cwa\n",
            "1 Capsule Review\n",
            "1 Card Check\n",
            "1 Chris Roush\n",
            "1 Colin Kaepernick\n",
            "1 Computing Platform\n",
            "1 Condé Nast\n",
            "1 Corporate Governance\n",
            "1 Corporate Structure\n",
            "1 Creative Commons\n",
            "1 Cue (Audio)\n",
            "1 Cuepoint\n",
            "1 Editing\n",
            "Could not load Editing\n",
            "1 Electronic Publishing\n",
            "1 Evan Williams (Internet Entrepreneur)\n",
            "1 Facebook\n",
            "1 Go (Programming Language)\n",
            "1 Google\n",
            "Could not load Google\n",
            "1 Gratuity\n",
            "1 Greylock Partners\n",
            "1 Harvard University\n",
            "1 Holacracy\n",
            "1 Ios\n",
            "Could not load Ios\n",
            "1 Issn (Identifier)\n",
            "1 Jonathan Shecter\n",
            "1 Lawrence Lessig\n",
            "1 Like Button\n",
            "1 Mada Masr\n",
            "1 Magazine\n",
            "1 Malaysian Communications And Multimedia Commission\n",
            "1 Matter (Magazine)\n",
            "1 Micropayments\n",
            "1 National Magazine Awards\n",
            "1 Native Advertising\n",
            "1 Newspaper\n",
            "1 Nieman Lab\n",
            "1 Node.Js\n",
            "Could not load Node.Js\n",
            "1 Online Publication\n",
            "1 Organizational Founder\n",
            "1 Panama Papers\n",
            "1 Patronage\n",
            "1 Paywall\n",
            "1 Privately Held Company\n",
            "1 Product (Business)\n",
            "1 Public Domain\n",
            "1 Publisher\n",
            "1 Reddit\n",
            "Could not load Reddit\n",
            "1 Remixes\n",
            "Could not load Remixes\n",
            "1 Rich Text Format\n",
            "1 Robert Christgau\n",
            "1 Roskomnadzor\n",
            "1 Sarawak Report\n",
            "1 Service (Economics)\n",
            "1 Social Journalism\n",
            "1 Sponsor (Commercial)\n",
            "1 Steven Levy\n",
            "1 Substack\n",
            "Could not load Substack\n",
            "1 Techcrunch\n",
            "1 Technology Stack\n",
            "1 The Bold Italic\n",
            "1 The Guardian\n",
            "1 The Huffington Post\n",
            "1 The Los Angeles Times\n",
            "1 The New York Times\n",
            "Could not load The New York Times\n",
            "1 The Public Domain Review\n",
            "1 The Ringer (Website)\n",
            "1 The Source (Magazine)\n",
            "1 The Wall Street Journal\n",
            "1 Tinymce\n",
            "Could not load Tinymce\n",
            "1 Trade Union\n",
            "1 Tumblr\n",
            "1 Twitter\n",
            "1 Unique Visitors\n",
            "1 Vice (Magazine)\n",
            "1 Voluntary Recognition\n",
            "1 Vox Media\n",
            "Could not load Vox Media\n",
            "1 Wysiwyg\n",
            "1 Wired (Magazine)\n",
            "0 Santana Do Seridó\n",
            "1 Brazil\n",
            "1 Flag Of Santana Do Seridó\n",
            "1 Geographic Coordinate System\n",
            "1 Municipalities Of Brazil\n",
            "1 Northeast Region, Brazil\n",
            "1 Regions Of Brazil\n",
            "1 Rio Grande Do Norte\n",
            "1 Seal Of Santana Do Seridó\n",
            "1 States Of Brazil\n",
            "1 Time In Brazil\n",
            "1 Time Zone\n",
            "Could not load Time Zone\n",
            "1 Utc−3\n",
            "CPU times: user 12 s, sys: 1.09 s, total: 13.1 s\n",
            "Wall time: 8min 7s\n"
          ]
        }
      ],
      "source": [
        "%%time\n",
        "def start(g, todo_lst, todo_set, done_set, layer, page):\n",
        "  while layer < 2:\n",
        "    # Remove the name page of the current page from the todo_lst,\n",
        "    # and add it to the set of processed pages.\n",
        "    # If the script encounters this page again, it will skip over it.\n",
        "    del todo_lst[0]\n",
        "    done_set.add(page)\n",
        "\n",
        "    # Show progress\n",
        "    print(layer, page)\n",
        "\n",
        "    # Attempt to download the selected page.\n",
        "    try:\n",
        "      wiki = wikipedia.page(page)\n",
        "    except:\n",
        "      print(\"Could not load\", page)\n",
        "      layer, page = todo_lst[0]\n",
        "      continue\n",
        "\n",
        "    for link in wiki.links:\n",
        "      link = link.title()\n",
        "      if link not in STOPS and not link.startswith(\"List Of\"):\n",
        "        if link not in todo_set and link not in done_set:\n",
        "          todo_lst.append((layer + 1, link))\n",
        "          todo_set.add(link)\n",
        "        g.add_edge(page, link)\n",
        "    layer, page = todo_lst[0]\n",
        "  return g\n",
        "g1 = start(g1, todo_lst1, todo_set1, done_set1, layer1, page1)\n",
        "g2 = start(g2, todo_lst2, todo_set2, done_set2, layer2, page2)\n",
        "g3 = start(g3, todo_lst3, todo_set3, done_set3, layer3, page3)"
      ]
    },
    {
      "cell_type": "code",
      "execution_count": 43,
      "metadata": {
        "colab": {
          "base_uri": "https://localhost:8080/"
        },
        "id": "JrtewM_hPqJa",
        "outputId": "20e933f3-e862-4de5-87f9-740147b9c25d"
      },
      "outputs": [
        {
          "output_type": "stream",
          "name": "stdout",
          "text": [
            "SJC 5629 nodes, 17359 edges\n",
            "Medium 19471 nodes, 25403 edges\n",
            "Santana 2758 nodes, 4034 edges\n"
          ]
        }
      ],
      "source": [
        "print(\"SJC {} nodes, {} edges\".format(len(g1), nx.number_of_edges(g1)))\n",
        "print(\"Medium {} nodes, {} edges\".format(len(g2), nx.number_of_edges(g2)))\n",
        "print(\"Santana {} nodes, {} edges\".format(len(g3), nx.number_of_edges(g3)))"
      ]
    },
    {
      "cell_type": "markdown",
      "metadata": {
        "id": "LMX9A1-Nh-8B"
      },
      "source": [
        "A rede de interesse está agora na variável g. Mas ela é “suja”: imprecisa, incompleta e errônea."
      ]
    },
    {
      "cell_type": "markdown",
      "metadata": {
        "id": "qS911QoZMzb7"
      },
      "source": [
        "## 1.3 Elimine Duplicatas"
      ]
    },
    {
      "cell_type": "markdown",
      "metadata": {
        "id": "UJ_c2SOHNa7O"
      },
      "source": [
        "Muitas páginas da Wikipédia existem sob dois ou mais nomes. Por exemplo, há\n",
        "páginas sobre **Rede Complexa** e **Redes Complexas**. A última redireciona\n",
        "para a primeira, mas a NetworkX não sabe sobre o redirecionamento.\n",
        "\n",
        "Mesclar com precisão todos os nós duplicados envolve ferramentas de **processamento de linguagem natural\n",
        "(PLN) que estão fora do escopo deste curso**. Pode ser suficiente juntar\n",
        "apenas os nós que diferem pela presença/ausência da letra s no final\n",
        "ou um hífen no meio.\n",
        "\n",
        "Comece a remover autoloops (páginas que se referem a si mesmas). Os loops não alteram\n",
        "as propriedades da rede, mas afetam a correção da eliminação de nós duplicados.\n",
        "Agora, você precisa de uma lista de pelo menos alguns nós duplicados. Você pode construí-la\n",
        "olhando para cada nó em g e verificando se um nó com o mesmo nome, mas\n",
        "com um s no final, também está em g.\n",
        "\n",
        "Passe cada par de nomes de nós duplicados para a função **nx.contracted_nodes(g,u,v)** que mescla o nó v no nó u no gráfico g. A função reatribui todas as arestas anteriormente incidentes a v, para u. Se você não passar a opção **self_loops=False**, a função converte uma aresta de v para u (se houver) para um self-loop."
      ]
    },
    {
      "cell_type": "code",
      "execution_count": 44,
      "metadata": {
        "id": "8VkbRjFcBQaX"
      },
      "outputs": [],
      "source": [
        "# make a copy of raw graph\n",
        "original1 = g1.copy()\n",
        "original2 = g2.copy()\n",
        "original3 = g3.copy()\n"
      ]
    },
    {
      "cell_type": "code",
      "execution_count": 45,
      "metadata": {
        "colab": {
          "base_uri": "https://localhost:8080/"
        },
        "id": "UFrNIuluN1__",
        "outputId": "70863fe0-cb5a-407c-d067-4efdfc65f78c"
      },
      "outputs": [
        {
          "output_type": "stream",
          "name": "stdout",
          "text": [
            "SJC [('Cashew', 'Cashews'), ('Dune', 'Dunes'), ('Mango', 'Mangos'), ('Afro-Brazilian', 'Afro-Brazilians'), ('Asian Brazilian', 'Asian Brazilians'), ('White Brazilian', 'White Brazilians'), ('Bean', 'Beans')]\n",
            "Medium [('Magazine', 'Magazines'), ('Mobile App', 'Mobile Apps'), ('Patent', 'Patents'), ('Trademark', 'Trademarks'), ('Weather Forecast', 'Weather Forecasts'), ('Artificial Neural Network', 'Artificial Neural Networks'), ('Chatbot', 'Chatbots'), ('Convolutional Neural Network', 'Convolutional Neural Networks'), ('Deepfake', 'Deepfakes'), ('Expert System', 'Expert Systems'), ('Genetic Algorithm', 'Genetic Algorithms'), ('Graphics Processing Unit', 'Graphics Processing Units'), ('Heuristic', 'Heuristics'), ('Neuron', 'Neurons'), ('Self-Driving Car', 'Self-Driving Cars'), ('Support Vector Machine', 'Support Vector Machines'), ('Blood Substitute', 'Blood Substitutes'), ('Erythrocyte', 'Erythrocytes'), ('Thrombocyte', 'Thrombocytes'), ('White Blood Cell', 'White Blood Cells'), ('Meteorologist', 'Meteorologists'), ('Online Newspaper', 'Online Newspapers'), ('Sport', 'Sports'), ('Zine', 'Zines'), ('America', 'Americas'), ('Financial Statement', 'Financial Statements'), ('Shell Corporation', 'Shell Corporations'), ('Orphan Work', 'Orphan Works'), ('Software Patent', 'Software Patents'), ('E-Book', 'E-Books'), ('Search Engine', 'Search Engines'), ('Criminal', 'Criminals'), ('Pulitzer Prize', 'Pulitzer Prizes'), ('Trade Magazine', 'Trade Magazines'), ('National Magazine Award', 'National Magazine Awards'), ('Advertorial', 'Advertorials'), ('News Magazine', 'News Magazines'), ('Fine Art', 'Fine Arts'), ('Micropayment', 'Micropayments'), ('Shareholder', 'Shareholders'), ('Creative Work', 'Creative Works'), ('Trade Secret', 'Trade Secrets'), ('Academy Award', 'Academy Awards'), ('Webby Award', 'Webby Awards'), ('Guardian Student Media Award', 'Guardian Student Media Awards'), ('Guild', 'Guilds'), ('Right-To-Work Law', 'Right-To-Work Laws'), ('Socialist', 'Socialists')]\n",
            "Santana [('Afro-Brazilian', 'Afro-Brazilians'), ('Asian Brazilian', 'Asian Brazilians'), ('Bean', 'Beans'), ('White Brazilian', 'White Brazilians')]\n",
            "[('Brazilian Jiu-Jitsu', 'Brazilian Jiu Jitsu'), ('Semi-Arid', 'Semi Arid')]\n",
            "[('Cloud-Computing', 'Cloud Computing'), ('Free-Software License', 'Free Software License'), ('Open-Source Software', 'Open Source Software'), ('Xda-Developers', 'Xda Developers'), ('Automated Decision-Making', 'Automated Decision Making'), ('Long Short-Term Memory', 'Long Short Term Memory'), ('Natural-Language Processing', 'Natural Language Processing'), ('Open-Source Governance', 'Open Source Governance'), ('Free-Culture Movement', 'Free Culture Movement'), ('Peer-Review', 'Peer Review'), ('Command-And-Control', 'Command And Control'), ('Money-Laundering', 'Money Laundering'), ('Shift-Jis', 'Shift Jis'), ('Los Angeles Herald-Examiner', 'Los Angeles Herald Examiner'), ('National-Syndicalism', 'National Syndicalism'), ('Douglas-Fir', 'Douglas Fir')]\n",
            "[('Semi-Arid', 'Semi Arid')]\n",
            "SJC\n",
            "Medium\n",
            "Santana\n"
          ]
        }
      ],
      "source": [
        "# remove self loops\n",
        "g1.remove_edges_from(nx.selfloop_edges(g1))\n",
        "g2.remove_edges_from(nx.selfloop_edges(g2))\n",
        "g3.remove_edges_from(nx.selfloop_edges(g3))\n",
        "\n",
        "# identify duplicates like that: 'network' and 'networks'\n",
        "duplicates1 = [(node, node + \"s\")\n",
        "              for node in g1 if node + \"s\" in g1\n",
        "             ]\n",
        "duplicates2 = [(node, node + \"s\")\n",
        "              for node in g2 if node + \"s\" in g2\n",
        "             ]\n",
        "duplicates3 = [(node, node + \"s\")\n",
        "              for node in g3 if node + \"s\" in g3\n",
        "             ]\n",
        "\n",
        "for dup in duplicates1:\n",
        "  # *dup is a technique named 'unpacking'\n",
        "  g1 = nx.contracted_nodes(g1, *dup, self_loops=False)\n",
        "for dup in duplicates2:\n",
        "  g2 = nx.contracted_nodes(g2, *dup, self_loops=False)\n",
        "for dup in duplicates3:\n",
        "  g3 = nx.contracted_nodes(g3, *dup, self_loops=False)\n",
        "\n",
        "print(f\"SJC {duplicates1}\")\n",
        "print(f\"Medium {duplicates2}\")\n",
        "print(f\"Santana {duplicates3}\")\n",
        "\n",
        "\n",
        "duplicates1 = [(x, y) for x, y in\n",
        "              [(node, node.replace(\"-\", \" \")) for node in g1]\n",
        "                if x != y and y in g1]\n",
        "duplicates2 = [(x, y) for x, y in\n",
        "              [(node, node.replace(\"-\", \" \")) for node in g2]\n",
        "                if x != y and y in g2]\n",
        "duplicates3 = [(x, y) for x, y in\n",
        "              [(node, node.replace(\"-\", \" \")) for node in g3]\n",
        "                if x != y and y in g3]\n",
        "\n",
        "\n",
        "\n",
        "print(duplicates1)\n",
        "print(duplicates2)\n",
        "print(duplicates3)\n",
        "\n",
        "for dup in duplicates1:\n",
        "  g1 = nx.contracted_nodes(g1, *dup, self_loops=False)\n",
        "for dup in duplicates2:\n",
        "  g2 = nx.contracted_nodes(g2, *dup, self_loops=False)\n",
        "for dup in duplicates3:\n",
        "  g3 = nx.contracted_nodes(g3, *dup, self_loops=False)\n",
        "\n",
        "\n",
        "\n",
        "\n",
        "\n",
        "\n",
        "\n",
        "# nx.contracted creates a new node/edge attribute called contraction\n",
        "# the value of the attribute is a dictionary, but GraphML\n",
        "# does not support dictionary attributes\n",
        "print(\"SJC\")\n",
        "nx.set_node_attributes(g1, 0,\"contraction\")\n",
        "nx.set_edge_attributes(g1, 0,\"contraction\")\n",
        "\n",
        "\n",
        "print(\"Medium\")\n",
        "nx.set_node_attributes(g2, 0,\"contraction\")\n",
        "nx.set_edge_attributes(g2, 0,\"contraction\")\n",
        "\n",
        "print(\"Santana\")\n",
        "nx.set_node_attributes(g3, 0,\"contraction\")\n",
        "nx.set_edge_attributes(g3, 0,\"contraction\")"
      ]
    },
    {
      "cell_type": "code",
      "execution_count": 46,
      "metadata": {
        "colab": {
          "base_uri": "https://localhost:8080/"
        },
        "id": "Bqe2ruDmPcNH",
        "outputId": "0d5dcbbf-9618-4899-b5aa-c3fc668deb12"
      },
      "outputs": [
        {
          "output_type": "stream",
          "name": "stdout",
          "text": [
            "5620 nodes, 17338 edges\n",
            "19407 nodes, 25356 edges\n",
            "2753 nodes, 4027 edges\n"
          ]
        }
      ],
      "source": [
        "print(\"{} nodes, {} edges\".format(len(g1), nx.number_of_edges(g1)))\n",
        "print(\"{} nodes, {} edges\".format(len(g2), nx.number_of_edges(g2)))\n",
        "print(\"{} nodes, {} edges\".format(len(g3), nx.number_of_edges(g3)))\n"
      ]
    },
    {
      "cell_type": "markdown",
      "metadata": {
        "id": "TulPj3ZQQAS8"
      },
      "source": [
        "## 1.4 Truncar a rede"
      ]
    },
    {
      "cell_type": "markdown",
      "metadata": {
        "id": "cGjVZK35URcH"
      },
      "source": [
        "Por que você passou por todos esses problemas na Wikipédia? Primeiro, para construir uma\n",
        "rede de assuntos relacionados a redes complexas — e aqui está. Segundo, para\n",
        "encontrar outros tópicos significativos relacionados a redes complexas. **Mas qual é a\n",
        "medida de significância?**\n",
        "\n",
        "Você descobrirá uma variedade de medidas de rede mais adiante neste curso. Por enquanto, vamos nos concentrar em um **nó indegree** — o número de arestas direcionadas para o nó. (No mesmo espírito, o número de arestas direcionadas para fora do nó é chamado de **outdegree**.) O indegree de um nó é igual ao número de links HTML apontando para a respectiva página. **Se uma página tiver muitos links para ela, o tópico da página deve ser significativo.**\n",
        "\n",
        "O gráfico extraído\n",
        "tem 13.526 nós e 24.724 arestas — uma média de 1,82 arestas por nó. **A maioria\n",
        "dos nós tem apenas uma conexão**. (Curiosamente, não há nós isolados\n",
        "sem conexão no gráfico. Mesmo que eles existam, você não os encontrará\n",
        "por causa da forma como o efeito bola de neve funciona.) **Você pode remover todos os nós com\n",
        "apenas uma aresta incidente para tornar a rede mais compacta e menos cabeluda\n",
        "sem prejudicar os resultados finais**."
      ]
    },
    {
      "cell_type": "code",
      "execution_count": 54,
      "metadata": {
        "colab": {
          "base_uri": "https://localhost:8080/",
          "height": 1000
        },
        "id": "AaHxaOwMLW9B",
        "outputId": "262b6315-280d-4036-9124-e525d5bf6e66"
      },
      "outputs": [
        {
          "output_type": "stream",
          "name": "stdout",
          "text": [
            "sao jose campestre.graphml\n"
          ]
        },
        {
          "output_type": "display_data",
          "data": {
            "text/plain": [
              "<Figure size 800x400 with 2 Axes>"
            ],
            "image/png": "[encoded data removed]"
          },
          "metadata": {}
        },
        {
          "output_type": "stream",
          "name": "stdout",
          "text": [
            "\n",
            "\n",
            "Medium.graphml\n"
          ]
        },
        {
          "output_type": "display_data",
          "data": {
            "text/plain": [
              "<Figure size 800x400 with 2 Axes>"
            ],
            "image/png": "[encoded data removed]"
          },
          "metadata": {}
        },
        {
          "output_type": "stream",
          "name": "stdout",
          "text": [
            "\n",
            "\n",
            "santana do serido.graphml\n"
          ]
        },
        {
          "output_type": "display_data",
          "data": {
            "text/plain": [
              "<Figure size 800x400 with 2 Axes>"
            ],
            "image/png": "[encoded data removed]"
          },
          "metadata": {}
        }
      ],
      "source": [
        "\n",
        "g1 = nx.read_graphml('/content/sao jose campestre.graphml')\n",
        "g2 = nx.read_graphml('/content/Medium.graphml')\n",
        "g3 = nx.read_graphml('/content/santana do serido.graphml')\n",
        "\n",
        "def plote(g):\n",
        "  plt.style.use(\"default\")\n",
        "  # degree sequence\n",
        "  degree_sequence = sorted([d for n, d in g.degree()], reverse=True)\n",
        "\n",
        "  fig, ax = plt.subplots(1,2,figsize=(8,4))\n",
        "\n",
        "  # all_data has information about degree_sequence and the width of each bin\n",
        "  ax[0].hist(degree_sequence)\n",
        "  ax[1].hist(degree_sequence,bins=[1,2,3,4,5,6,7,8,9,10])\n",
        "\n",
        "  ax[0].set_title(\"Degree Histogram\")\n",
        "  ax[0].set_ylabel(\"Count\")\n",
        "  ax[0].set_xlabel(\"Degree\")\n",
        "  ax[0].set_ylim(0,3000)\n",
        "\n",
        "  ax[1].set_title(\"Degree Histogram - Zoom\")\n",
        "  ax[1].set_ylabel(\"Count\")\n",
        "  ax[1].set_xlabel(\"Degree\")\n",
        "  ax[1].set_xlim(0,10)\n",
        "  ax[1].set_ylim(0,3000)\n",
        "\n",
        "  plt.tight_layout()\n",
        "  plt.show()\n",
        "print('sao jose campestre.graphml')\n",
        "plote(g1)\n",
        "print('\\n\\nMedium.graphml')\n",
        "plote(g2)\n",
        "print('\\n\\nsantana do serido.graphml')\n",
        "plote(g3)"
      ]
    },
    {
      "cell_type": "code",
      "execution_count": 48,
      "metadata": {
        "colab": {
          "base_uri": "https://localhost:8080/"
        },
        "id": "Br8-5IGIUbVT",
        "outputId": "7d096318-cfe7-4c7c-d712-81953aec5139"
      },
      "outputs": [
        {
          "output_type": "stream",
          "name": "stdout",
          "text": [
            "SJC: 838 nodes, 12556 edges\n",
            "Medium 3023 nodes, 8972 edges\n",
            "Serido 498 nodes, 1772 edges\n"
          ]
        }
      ],
      "source": [
        "# filter nodes with degree greater than or equal to 2\n",
        "core1 = [node for node, deg in dict(g1.degree()).items() if deg >= 2]\n",
        "core2 = [node for node, deg in dict(g2.degree()).items() if deg >= 2]\n",
        "core3 = [node for node, deg in dict(g3.degree()).items() if deg >= 2]\n",
        "\n",
        "\n",
        "# select a subgraph with 'core' nodes\n",
        "gsub1 = nx.subgraph(g1, core1)\n",
        "gsub2 = nx.subgraph(g2, core2)\n",
        "gsub3 = nx.subgraph(g3, core3)\n",
        "\n",
        "print(\"SJC: {} nodes, {} edges\".format(len(gsub1), nx.number_of_edges(gsub1)))\n",
        "print(\"Medium {} nodes, {} edges\".format(len(gsub2), nx.number_of_edges(gsub2)))\n",
        "print(\"Serido {} nodes, {} edges\".format(len(gsub3), nx.number_of_edges(gsub3)))\n",
        "\n",
        "#nx.write_graphml(gsub1, \"sjc.graphml\")\n",
        "#nx.write_graphml(gsub2, \"medium.graphml\")\n",
        "#nx.write_graphml(gsub3, \"serido.graphml\")"
      ]
    },
    {
      "cell_type": "code",
      "execution_count": 33,
      "metadata": {
        "id": "GD2AghG1eXMB"
      },
      "outputs": [],
      "source": [
        "# Exemplo\n",
        "#print(\"Nodes removed: {:.2f}%\".format(100*(1 - 3420/13775)))\n",
        "#print(\"Edges removed: {:.2f}%\".format(100*(1 - 14771/24856)))\n",
        "#print(\"Edges per nodes: {:.2f}\".format(13775/3420))"
      ]
    },
    {
      "cell_type": "markdown",
      "metadata": {
        "id": "YSELbSFCX__7"
      },
      "source": [
        "Como você pode ver, o seguinte fragmento de código remove com segurança 75 por cento dos\n",
        "nós e 40 por cento das arestas, aumentando o número médio de arestas por\n",
        "nó para 4,03."
      ]
    },
    {
      "cell_type": "markdown",
      "metadata": {
        "id": "5zRjfGLtZ2qB"
      },
      "source": [
        "## 1.5 Explorar a rede"
      ]
    },
    {
      "cell_type": "markdown",
      "metadata": {
        "id": "RUMyWlK7jqkX"
      },
      "source": [
        "A figura a seguir é uma renderização [Gephi](https://gephi.org/) de **gsub**. Os tamanhos de fonte de nó\n",
        "e rótulo representam os indegrees (um filtro foi adicionado no gephi apenas para mostrar apenas o nó com indegree maior que 50). Os nós mais inconectados e mais significativos\n",
        "estão no canto superior esquerdo da rede. O que são eles?\n",
        "\n",
        "<img width=\"600\" src=\"https://drive.google.com/uc?export=view&id=1voCZAh8-8YPKuekNHbc_h45MLgM6Rfg6\">\n",
        "\n",
        "O último fragmento de código do exercício calcula eficientemente a resposta\n",
        "chamando o método **gsub.in_degree()**. O método (e seu método irmão **gsub.out_degree()**)\n",
        "são muito semelhantes a **gsub.degree()**, exceto que eles relatam contagens de arestas diferentes na forma de objetos InDegreeView e OutDegreeView, respectivamente."
      ]
    },
    {
      "cell_type": "code",
      "execution_count": 49,
      "metadata": {
        "colab": {
          "base_uri": "https://localhost:8080/"
        },
        "id": "gwlRxZ2kmDL-",
        "outputId": "d6a28217-5545-4240-ed17-9631e6ed6122"
      },
      "outputs": [
        {
          "output_type": "stream",
          "name": "stdout",
          "text": [
            "163 Time Zone\n",
            " SJC 163 Regions Of Brazil\n",
            " SJC 163 Northeast Region, Brazil\n",
            " SJC 162 States Of Brazil\n",
            " SJC 161 Brazil\n",
            " SJC 160 Geographic Coordinate System\n",
            " SJC 149 Rio Grande Do Norte\n",
            " SJC 135 Time In Brazil\n",
            " SJC 134 Municipalities Of Brazil\n",
            " SJC 118 Pdf\n",
            " SJC 110 Utc−3\n",
            " SJC 38 Natal, Rio Grande Do Norte\n",
            " SJC 30 Caicó\n",
            " SJC 29 Mossoró\n",
            " SJC 29 Touros\n",
            " SJC 29 Currais Novos\n",
            " SJC 28 Rio Do Fogo\n",
            " SJC 28 Arês, Rio Grande Do Norte\n",
            " SJC 28 Timbaúba Dos Batistas\n",
            " SJC 28 Pau Dos Ferros\n",
            " SJC 28 Pedro Velho\n",
            " SJC 28 Senador Elói De Souza\n",
            " SJC 28 Canguaretama\n",
            " SJC 28 Jardim De Piranhas\n",
            " SJC 28 Jucurutu\n",
            " SJC 28 Macaíba\n",
            " SJC 28 Nova Cruz, Rio Grande Do Norte\n",
            " SJC 28 São João Do Sabugi\n",
            " SJC 28 São José De Mipibu\n",
            " SJC 28 Boa Saúde\n",
            " SJC 27 Lagoa De Pedras\n",
            " SJC 27 Pedro Avelino\n",
            " SJC 27 Caiçara Do Rio Do Vento\n",
            " SJC 27 Parazinho\n",
            " SJC 27 Coronel João Pessoa\n",
            " SJC 27 Montanhas\n",
            " SJC 27 São Francisco Do Oeste\n",
            " SJC 27 Passa E Fica\n",
            " SJC 27 Vila Flor, Rio Grande Do Norte\n",
            " SJC 27 Presidente Juscelino\n",
            " SJC 27 Janduís\n",
            " SJC 27 Ceará-Mirim\n",
            " SJC 27 Ipanguaçu\n",
            " SJC 27 José Da Penha\n",
            " SJC 27 Itaú, Rio Grande Do Norte\n",
            " SJC 27 Umarizal\n",
            " SJC 27 Portalegre, Rio Grande Do Norte\n",
            " SJC 27 Angicos\n",
            " SJC 27 Acari, Rio Grande Do Norte\n",
            " SJC 27 São Bento Do Norte\n",
            " SJC 27 Maxaranguape\n",
            " SJC 27 Galinhos\n",
            " SJC 27 Passagem, Rio Grande Do Norte\n",
            " SJC 27 Brejinho, Rio Grande Do Norte\n",
            " SJC 27 Lagoa Nova\n",
            " SJC 27 Severiano Melo\n",
            " SJC 27 Frutuoso Gomes\n",
            " SJC 27 Marcelino Vieira\n",
            " SJC 27 Riachuelo, Rio Grande Do Norte\n",
            " SJC 27 Guamaré\n",
            " SJC 27 Almino Afonso\n",
            " SJC 27 Taboleiro Grande\n",
            " SJC 27 Tibau Do Sul\n",
            " SJC 27 Tangará, Rio Grande Do Norte\n",
            " SJC 27 Água Nova\n",
            " SJC 27 Lagoa Salgada\n",
            " SJC 27 Rafael Godeiro\n",
            " SJC 27 Goianinha\n",
            " SJC 27 Jandaíra, Rio Grande Do Norte\n",
            " SJC 27 Governador Dix-Sept Rosado\n",
            " SJC 27 Serrinha Dos Pintos\n",
            " SJC 27 Nísia Floresta, Rio Grande Do Norte\n",
            " SJC 27 São José Do Seridó\n",
            " SJC 27 Extremoz\n",
            " SJC 27 Lagoa De Velhos\n",
            " SJC 27 Serra De São Bento\n",
            " SJC 27 Florânia\n",
            " SJC 27 Rodolfo Fernandes\n",
            " SJC 27 Pilões, Rio Grande Do Norte\n",
            " SJC 27 Venha-Ver\n",
            " SJC 27 Parelhas\n",
            " SJC 27 Santana Do Matos\n",
            " SJC 27 Parnamirim\n",
            " SJC 27 Riacho Da Cruz\n",
            " SJC 27 Sítio Novo, Rio Grande Do Norte\n",
            " SJC 27 Grossos\n",
            " SJC 27 Lajes Pintadas\n",
            " SJC 27 São Paulo Do Potengi\n",
            " SJC 27 Messias Targino\n",
            " SJC 27 Olho-D'Água Do Borges\n",
            " SJC 27 Paraú\n",
            " SJC 27 Itajá, Rio Grande Do Norte\n",
            " SJC 27 Porto Do Mangue\n",
            " SJC 27 Jardim De Angicos\n",
            " SJC 27 São Miguel Do Gostoso\n",
            " SJC 27 Doutor Severiano\n",
            " SJC 27 Lucrécia\n",
            " SJC 27 Poço Branco\n",
            " SJC 27 Monte Das Gameleiras\n",
            " SJC 27 Luís Gomes\n",
            "163 Time Zone\n",
            " Medium (site) 163 Regions Of Brazil\n",
            " Medium (site) 163 Northeast Region, Brazil\n",
            " Medium (site) 162 States Of Brazil\n",
            " Medium (site) 161 Brazil\n",
            " Medium (site) 160 Geographic Coordinate System\n",
            " Medium (site) 149 Rio Grande Do Norte\n",
            " Medium (site) 135 Time In Brazil\n",
            " Medium (site) 134 Municipalities Of Brazil\n",
            " Medium (site) 118 Pdf\n",
            " Medium (site) 110 Utc−3\n",
            " Medium (site) 38 Natal, Rio Grande Do Norte\n",
            " Medium (site) 30 Caicó\n",
            " Medium (site) 29 Mossoró\n",
            " Medium (site) 29 Touros\n",
            " Medium (site) 29 Currais Novos\n",
            " Medium (site) 28 Rio Do Fogo\n",
            " Medium (site) 28 Arês, Rio Grande Do Norte\n",
            " Medium (site) 28 Timbaúba Dos Batistas\n",
            " Medium (site) 28 Pau Dos Ferros\n",
            " Medium (site) 28 Pedro Velho\n",
            " Medium (site) 28 Senador Elói De Souza\n",
            " Medium (site) 28 Canguaretama\n",
            " Medium (site) 28 Jardim De Piranhas\n",
            " Medium (site) 28 Jucurutu\n",
            " Medium (site) 28 Macaíba\n",
            " Medium (site) 28 Nova Cruz, Rio Grande Do Norte\n",
            " Medium (site) 28 São João Do Sabugi\n",
            " Medium (site) 28 São José De Mipibu\n",
            " Medium (site) 28 Boa Saúde\n",
            " Medium (site) 27 Lagoa De Pedras\n",
            " Medium (site) 27 Pedro Avelino\n",
            " Medium (site) 27 Caiçara Do Rio Do Vento\n",
            " Medium (site) 27 Parazinho\n",
            " Medium (site) 27 Coronel João Pessoa\n",
            " Medium (site) 27 Montanhas\n",
            " Medium (site) 27 São Francisco Do Oeste\n",
            " Medium (site) 27 Passa E Fica\n",
            " Medium (site) 27 Vila Flor, Rio Grande Do Norte\n",
            " Medium (site) 27 Presidente Juscelino\n",
            " Medium (site) 27 Janduís\n",
            " Medium (site) 27 Ceará-Mirim\n",
            " Medium (site) 27 Ipanguaçu\n",
            " Medium (site) 27 José Da Penha\n",
            " Medium (site) 27 Itaú, Rio Grande Do Norte\n",
            " Medium (site) 27 Umarizal\n",
            " Medium (site) 27 Portalegre, Rio Grande Do Norte\n",
            " Medium (site) 27 Angicos\n",
            " Medium (site) 27 Acari, Rio Grande Do Norte\n",
            " Medium (site) 27 São Bento Do Norte\n",
            " Medium (site) 27 Maxaranguape\n",
            " Medium (site) 27 Galinhos\n",
            " Medium (site) 27 Passagem, Rio Grande Do Norte\n",
            " Medium (site) 27 Brejinho, Rio Grande Do Norte\n",
            " Medium (site) 27 Lagoa Nova\n",
            " Medium (site) 27 Severiano Melo\n",
            " Medium (site) 27 Frutuoso Gomes\n",
            " Medium (site) 27 Marcelino Vieira\n",
            " Medium (site) 27 Riachuelo, Rio Grande Do Norte\n",
            " Medium (site) 27 Guamaré\n",
            " Medium (site) 27 Almino Afonso\n",
            " Medium (site) 27 Taboleiro Grande\n",
            " Medium (site) 27 Tibau Do Sul\n",
            " Medium (site) 27 Tangará, Rio Grande Do Norte\n",
            " Medium (site) 27 Água Nova\n",
            " Medium (site) 27 Lagoa Salgada\n",
            " Medium (site) 27 Rafael Godeiro\n",
            " Medium (site) 27 Goianinha\n",
            " Medium (site) 27 Jandaíra, Rio Grande Do Norte\n",
            " Medium (site) 27 Governador Dix-Sept Rosado\n",
            " Medium (site) 27 Serrinha Dos Pintos\n",
            " Medium (site) 27 Nísia Floresta, Rio Grande Do Norte\n",
            " Medium (site) 27 São José Do Seridó\n",
            " Medium (site) 27 Extremoz\n",
            " Medium (site) 27 Lagoa De Velhos\n",
            " Medium (site) 27 Serra De São Bento\n",
            " Medium (site) 27 Florânia\n",
            " Medium (site) 27 Rodolfo Fernandes\n",
            " Medium (site) 27 Pilões, Rio Grande Do Norte\n",
            " Medium (site) 27 Venha-Ver\n",
            " Medium (site) 27 Parelhas\n",
            " Medium (site) 27 Santana Do Matos\n",
            " Medium (site) 27 Parnamirim\n",
            " Medium (site) 27 Riacho Da Cruz\n",
            " Medium (site) 27 Sítio Novo, Rio Grande Do Norte\n",
            " Medium (site) 27 Grossos\n",
            " Medium (site) 27 Lajes Pintadas\n",
            " Medium (site) 27 São Paulo Do Potengi\n",
            " Medium (site) 27 Messias Targino\n",
            " Medium (site) 27 Olho-D'Água Do Borges\n",
            " Medium (site) 27 Paraú\n",
            " Medium (site) 27 Itajá, Rio Grande Do Norte\n",
            " Medium (site) 27 Porto Do Mangue\n",
            " Medium (site) 27 Jardim De Angicos\n",
            " Medium (site) 27 São Miguel Do Gostoso\n",
            " Medium (site) 27 Doutor Severiano\n",
            " Medium (site) 27 Lucrécia\n",
            " Medium (site) 27 Poço Branco\n",
            " Medium (site) 27 Monte Das Gameleiras\n",
            " Medium (site) 27 Luís Gomes\n",
            "163 Time Zone\n",
            " Santana 163 Regions Of Brazil\n",
            " Santana 163 Northeast Region, Brazil\n",
            " Santana 162 States Of Brazil\n",
            " Santana 161 Brazil\n",
            " Santana 160 Geographic Coordinate System\n",
            " Santana 149 Rio Grande Do Norte\n",
            " Santana 135 Time In Brazil\n",
            " Santana 134 Municipalities Of Brazil\n",
            " Santana 118 Pdf\n",
            " Santana 110 Utc−3\n",
            " Santana 38 Natal, Rio Grande Do Norte\n",
            " Santana 30 Caicó\n",
            " Santana 29 Mossoró\n",
            " Santana 29 Touros\n",
            " Santana 29 Currais Novos\n",
            " Santana 28 Rio Do Fogo\n",
            " Santana 28 Arês, Rio Grande Do Norte\n",
            " Santana 28 Timbaúba Dos Batistas\n",
            " Santana 28 Pau Dos Ferros\n",
            " Santana 28 Pedro Velho\n",
            " Santana 28 Senador Elói De Souza\n",
            " Santana 28 Canguaretama\n",
            " Santana 28 Jardim De Piranhas\n",
            " Santana 28 Jucurutu\n",
            " Santana 28 Macaíba\n",
            " Santana 28 Nova Cruz, Rio Grande Do Norte\n",
            " Santana 28 São João Do Sabugi\n",
            " Santana 28 São José De Mipibu\n",
            " Santana 28 Boa Saúde\n",
            " Santana 27 Lagoa De Pedras\n",
            " Santana 27 Pedro Avelino\n",
            " Santana 27 Caiçara Do Rio Do Vento\n",
            " Santana 27 Parazinho\n",
            " Santana 27 Coronel João Pessoa\n",
            " Santana 27 Montanhas\n",
            " Santana 27 São Francisco Do Oeste\n",
            " Santana 27 Passa E Fica\n",
            " Santana 27 Vila Flor, Rio Grande Do Norte\n",
            " Santana 27 Presidente Juscelino\n",
            " Santana 27 Janduís\n",
            " Santana 27 Ceará-Mirim\n",
            " Santana 27 Ipanguaçu\n",
            " Santana 27 José Da Penha\n",
            " Santana 27 Itaú, Rio Grande Do Norte\n",
            " Santana 27 Umarizal\n",
            " Santana 27 Portalegre, Rio Grande Do Norte\n",
            " Santana 27 Angicos\n",
            " Santana 27 Acari, Rio Grande Do Norte\n",
            " Santana 27 São Bento Do Norte\n",
            " Santana 27 Maxaranguape\n",
            " Santana 27 Galinhos\n",
            " Santana 27 Passagem, Rio Grande Do Norte\n",
            " Santana 27 Brejinho, Rio Grande Do Norte\n",
            " Santana 27 Lagoa Nova\n",
            " Santana 27 Severiano Melo\n",
            " Santana 27 Frutuoso Gomes\n",
            " Santana 27 Marcelino Vieira\n",
            " Santana 27 Riachuelo, Rio Grande Do Norte\n",
            " Santana 27 Guamaré\n",
            " Santana 27 Almino Afonso\n",
            " Santana 27 Taboleiro Grande\n",
            " Santana 27 Tibau Do Sul\n",
            " Santana 27 Tangará, Rio Grande Do Norte\n",
            " Santana 27 Água Nova\n",
            " Santana 27 Lagoa Salgada\n",
            " Santana 27 Rafael Godeiro\n",
            " Santana 27 Goianinha\n",
            " Santana 27 Jandaíra, Rio Grande Do Norte\n",
            " Santana 27 Governador Dix-Sept Rosado\n",
            " Santana 27 Serrinha Dos Pintos\n",
            " Santana 27 Nísia Floresta, Rio Grande Do Norte\n",
            " Santana 27 São José Do Seridó\n",
            " Santana 27 Extremoz\n",
            " Santana 27 Lagoa De Velhos\n",
            " Santana 27 Serra De São Bento\n",
            " Santana 27 Florânia\n",
            " Santana 27 Rodolfo Fernandes\n",
            " Santana 27 Pilões, Rio Grande Do Norte\n",
            " Santana 27 Venha-Ver\n",
            " Santana 27 Parelhas\n",
            " Santana 27 Santana Do Matos\n",
            " Santana 27 Parnamirim\n",
            " Santana 27 Riacho Da Cruz\n",
            " Santana 27 Sítio Novo, Rio Grande Do Norte\n",
            " Santana 27 Grossos\n",
            " Santana 27 Lajes Pintadas\n",
            " Santana 27 São Paulo Do Potengi\n",
            " Santana 27 Messias Targino\n",
            " Santana 27 Olho-D'Água Do Borges\n",
            " Santana 27 Paraú\n",
            " Santana 27 Itajá, Rio Grande Do Norte\n",
            " Santana 27 Porto Do Mangue\n",
            " Santana 27 Jardim De Angicos\n",
            " Santana 27 São Miguel Do Gostoso\n",
            " Santana 27 Doutor Severiano\n",
            " Santana 27 Lucrécia\n",
            " Santana 27 Poço Branco\n",
            " Santana 27 Monte Das Gameleiras\n",
            " Santana 27 Luís Gomes\n"
          ]
        }
      ],
      "source": [
        "top_indegree1 = sorted(dict(gsub1.in_degree()).items(),\n",
        "                      reverse=True, key=itemgetter(1))[:100]\n",
        "top_indegree2 = sorted(dict(gsub2.in_degree()).items(),\n",
        "                      reverse=True, key=itemgetter(1))[:100]\n",
        "top_indegree3 = sorted(dict(gsub3.in_degree()).items(),\n",
        "                      reverse=True, key=itemgetter(1))[:100]\n",
        "\n",
        "print(\"\\n SJC \".join(map(lambda t: \"{} {}\".format(*reversed(t)), top_indegree1)))\n",
        "print(\"\\n Medium (site) \".join(map(lambda t: \"{} {}\".format(*reversed(t)), top_indegree1)))\n",
        "print(\"\\n Santana \".join(map(lambda t: \"{} {}\".format(*reversed(t)), top_indegree1)))\n"
      ]
    },
    {
      "cell_type": "markdown",
      "metadata": {
        "id": "6PQT-sl0mulb"
      },
      "source": [
        "**Estudos Adicionais**\n",
        "\n",
        "- Esta seção apresentou um estudo de caso completo de construção de rede complexa,\n",
        "começando com dados brutos na forma de páginas HTML, até um gráfico de rede anotado analisável e um exercício exploratório simples. Esta é\n",
        "uma boa base para estudos de rede complexa mais sistemáticos. Agora é sua vez, escolha um tópico de seu interesse e reproduza você mesmo um estudo de caso de rede complexa completo.\n",
        "\n",
        "- Alguns exemplos (não limitados a):\n",
        "\n",
        "- https://en.wikipedia.org/wiki/Black_Lives_Matter\n",
        "- https://en.wikipedia.org/wiki/COVID-19\n",
        "- https://en.wikipedia.org/wiki/Harry_Potter\n",
        "- https://en.wikipedia.org/wiki/Sherlock_Holmes\n",
        "- https://en.wikipedia.org/wiki/Augusto_Severo_de_Albuquerque_Maranh%C3%A3o\n",
        "- https://en.wikipedia.org/wiki/Brazil\n",
        "- https://en.wikipedia.org/wiki/Bitcoin\n",
        "- https://en.wikipedia.org/wiki/Universidade_Federal_do_Rio_Grande_do_Norte\n",
        "- https://en.wikipedia.org/wiki/Petrobras\n",
        "- https://en.wikipedia.org/wiki/List_of_presidents_of_Brazil\n",
        "- Explore algumas métricas estudadas na Unidade 03 para destacar insights em sua análise."
      ]
    }
  ],
  "metadata": {
    "colab": {
      "provenance": []
    },
    "kernelspec": {
      "display_name": "Python 3",
      "name": "python3"
    },
    "language_info": {
      "name": "python"
    }
  },
  "nbformat": 4,
  "nbformat_minor": 0
}